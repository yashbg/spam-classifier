{
  "cells": [
    {
      "cell_type": "markdown",
      "metadata": {
        "id": "BKCrcukdE8Bb"
      },
      "source": [
        "# Assignment: Classification\n",
        "\n",
        "Classification refers to categorizing the given data into classes. For example,\n",
        "- Given an image of hand-written character, identifying the character (multi-class classification)\n",
        "- Given an image, annotating it with all the objects present in the image (multi-label classification)\n",
        "- Classifying an email as spam or non-spam (binary classification)\n",
        "- Classifying a tumor as benign or malignant and so on\n",
        "\n",
        "In this assignment, we will be building a classifier to classify emails as spam or non-spam. We will be using the Kaggle dataset [Spam or Not Spam Dataset](https://www.kaggle.com/datasets/ozlerhakan/spam-or-not-spam-dataset?resource=download) for this task. \n",
        "\n",
        "**Note**: You cannot load any libraries other than the mentioned ones.\n",
        "\n",
        "\n"
      ]
    },
    {
      "cell_type": "markdown",
      "metadata": {
        "id": "Irp6f7_2crfu"
      },
      "source": [
        "### Data pre-processing\n",
        "The first step in every machine learning algorithm is to process the raw data in some meaningful representations. We will be using the [Bag-of-Words](https://towardsdatascience.com/a-simple-explanation-of-the-bag-of-words-model-b88fc4f4971) representation to process the text. It comprises of following steps:\n",
        "\n",
        "- Process emails line-by-line to extract all the words.\n",
        "- Replace extracted words by their stem (root) word. This is known as stemming and lematization.\n",
        "- Remove stop words like and, or, is, am, and so on.\n",
        "- Assign a unique index to each word. This forms the vocabulary.\n",
        "- Represent each email as a binary vector of length equal to the size of the vocabulary such that the $i^{th}$ element of the vector is 1 iff the $i^{th}$ word is present in the email.\n",
        "\n",
        "Here we provide you with the function signature along with the expected functionality. You are expected to complete them accordingly. "
      ]
    },
    {
      "cell_type": "code",
      "execution_count": 17,
      "metadata": {},
      "outputs": [],
      "source": [
        "email = 'date wed NUMBER aug NUMBER NUMBER NUMBER NUMBER NUMBER from chris garrigues cwg dated NUMBER NUMBERfaNUMBERd deepeddy com message id NUMBER NUMBER tmda deepeddy vircio com i can t reproduce this error '"
      ]
    },
    {
      "cell_type": "code",
      "execution_count": 42,
      "metadata": {},
      "outputs": [
        {
          "data": {
            "text/plain": [
              "['wed',\n",
              " 'garrigu',\n",
              " 'chri',\n",
              " 'deepeddi',\n",
              " 'aug',\n",
              " 'cwg',\n",
              " 'thi',\n",
              " 'numberfanumberd',\n",
              " 'error',\n",
              " 'vircio',\n",
              " 'date',\n",
              " 'tmda',\n",
              " 'messag',\n",
              " 'com',\n",
              " 'id',\n",
              " 'number',\n",
              " 'reproduc']"
            ]
          },
          "execution_count": 42,
          "metadata": {},
          "output_type": "execute_result"
        }
      ],
      "source": [
        "vocab = []\n",
        "vocab = build_vocabulary(remove_stop_words(stemming(read_email(email))), vocab)\n",
        "vocab"
      ]
    },
    {
      "cell_type": "code",
      "execution_count": 54,
      "metadata": {},
      "outputs": [
        {
          "data": {
            "text/plain": [
              "array([ True,  True,  True, False,  True, False, False, False, False,\n",
              "       False,  True, False, False, False, False,  True, False])"
            ]
          },
          "execution_count": 54,
          "metadata": {},
          "output_type": "execute_result"
        }
      ],
      "source": [
        "email2 = 'date wed NUMBER aug NUMBER NUMBER NUMBER NUMBER NUMBER from chris garrigues'\n",
        "get_bow(email2, vocab)"
      ]
    },
    {
      "cell_type": "code",
      "execution_count": 79,
      "metadata": {},
      "outputs": [
        {
          "name": "stderr",
          "output_type": "stream",
          "text": [
            "[nltk_data] Downloading package stopwords to /home/yashbg/nltk_data...\n",
            "[nltk_data]   Package stopwords is already up-to-date!\n"
          ]
        },
        {
          "data": {
            "text/plain": [
              "True"
            ]
          },
          "execution_count": 79,
          "metadata": {},
          "output_type": "execute_result"
        }
      ],
      "source": [
        "import nltk\n",
        "nltk.download('stopwords')"
      ]
    },
    {
      "cell_type": "code",
      "execution_count": 100,
      "metadata": {
        "id": "wIlTOyyPn-mN"
      },
      "outputs": [],
      "source": [
        "import numpy as np\n",
        "from nltk.stem import PorterStemmer\n",
        "from nltk.corpus import stopwords\n",
        "\n",
        "# takes an email as an argument\n",
        "# read email line-by-line and extract all the words\n",
        "# return list of extracted words\n",
        "def read_email(email):\n",
        "  email = email.replace('_', '')\n",
        "  words = list(set(email.split()))\n",
        "  return words\n",
        "  \n",
        "# takes a list of words as an argument\n",
        "# replace each word by their stem word\n",
        "# return list of stem words\n",
        "def stemming(words):\n",
        "  stemmer = PorterStemmer()\n",
        "  stem_words = [stemmer.stem(word) for word in words]\n",
        "  return stem_words\n",
        "\n",
        "# takes a list of stem-words as an argument\n",
        "# remove stop words\n",
        "# return list of stem words after removing stop words\n",
        "def remove_stop_words(stem_words):\n",
        "  stem_no_stop_words = [word for word in stem_words if word not in stopwords.words('english')]\n",
        "  return stem_no_stop_words\n",
        "\n",
        "# takes a list of stem-words as an argument\n",
        "# add new words to the vocabulary and assign a unique index to them\n",
        "# returns new vocabulary\n",
        "def build_vocabulary(stem_words, vocab):\n",
        "  new_vocab = vocab\n",
        "  for word in stem_words:\n",
        "    if word not in new_vocab:\n",
        "      new_vocab.append(word)\n",
        "  return new_vocab\n",
        "\n",
        "# takes a list of stem-words and vocabulary as an argument\n",
        "# returns bow representation\n",
        "def get_bow(email, vocab):\n",
        "  email_bow = np.zeros_like(vocab, dtype=bool)\n",
        "  words = read_email(email)\n",
        "  stem_words = remove_stop_words(stemming(words))\n",
        "\n",
        "  for word in stem_words:\n",
        "    email_bow[vocab.index(word)] = True\n",
        "  return email_bow\n",
        "\n",
        "# read the entire dataset\n",
        "# convert emails to bow and maintain their labels\n",
        "# call function text_to_bow()\n",
        "def read_data(data_file):\n",
        "  with open(data_file) as f:\n",
        "    next(f)\n",
        "    lines = f.readlines()\n",
        "    n = len(lines)\n",
        "\n",
        "    vocab = []\n",
        "    for line in lines:\n",
        "      email, label = line.split(',')\n",
        "      words = read_email(email)\n",
        "      stem_words = remove_stop_words(stemming(words))\n",
        "      vocab = build_vocabulary(stem_words, vocab)\n",
        "\n",
        "    data = np.empty((n, len(vocab) + 1), dtype=bool)\n",
        "    for i, line in enumerate(lines):\n",
        "      email, label = line.split(',')\n",
        "      label = bool(int(label.strip()))\n",
        "      bow = get_bow(email, vocab)\n",
        "      data[i, :-1] = bow\n",
        "      data[i, -1] = label \n",
        "  return data, vocab"
      ]
    },
    {
      "cell_type": "code",
      "execution_count": 101,
      "metadata": {},
      "outputs": [],
      "source": [
        "data, vocab = read_data('spam_or_not_spam.csv')"
      ]
    },
    {
      "cell_type": "code",
      "execution_count": 102,
      "metadata": {},
      "outputs": [
        {
          "data": {
            "text/plain": [
              "(3000, 25430)"
            ]
          },
          "execution_count": 102,
          "metadata": {},
          "output_type": "execute_result"
        }
      ],
      "source": [
        "data.shape"
      ]
    },
    {
      "cell_type": "markdown",
      "metadata": {
        "id": "d0cDiGt6nkPY"
      },
      "source": [
        "### Data Visualization\n",
        "Let's understand the data distribution\n",
        "- Visualize the frequency of word-occurence in all the emails(spam + non-spam)\n",
        "- Visualize the frequency of word-occurence for spam and non-spam emails separately"
      ]
    },
    {
      "cell_type": "code",
      "execution_count": null,
      "metadata": {
        "id": "4vJLcTxDLZsh"
      },
      "outputs": [],
      "source": [
        "import matplotlib.pyplot as plt\n",
        "\n",
        "# visuallze data distribution\n",
        "def data_vis():\n",
        "  return\n",
        "\n",
        "data_vis(data)"
      ]
    },
    {
      "cell_type": "markdown",
      "metadata": {
        "id": "LPq-3nTzGcdX"
      },
      "source": [
        "### Learn a Classifier\n",
        "Split the dataset randomly in the ratio 80:20 as the training and test dataset. Use only training dataset to learn the classifier. No test data should be used during training. Test data will only be used during evaluation.\n",
        "\n",
        "Now let us try to use ML algorithms to classify emails as spam or non-spam. You are supposed to implement [SVM](https://scikit-learn.org/stable/modules/svm.html) and [K-Nearest Neighbour](https://scikit-learn.org/stable/modules/generated/sklearn.neighbors.KNeighborsClassifier.html) algorithm available in scikit-learn using the same training dataset for both."
      ]
    },
    {
      "cell_type": "code",
      "execution_count": 2,
      "metadata": {
        "id": "IMpuaPCKHxwh"
      },
      "outputs": [
        {
          "ename": "NameError",
          "evalue": "name 'data' is not defined",
          "output_type": "error",
          "traceback": [
            "\u001b[0;31m---------------------------------------------------------------------------\u001b[0m",
            "\u001b[0;31mNameError\u001b[0m                                 Traceback (most recent call last)",
            "\u001b[0;32m/tmp/ipykernel_429143/523763044.py\u001b[0m in \u001b[0;36m<module>\u001b[0;34m\u001b[0m\n\u001b[1;32m     42\u001b[0m   \u001b[0;32mreturn\u001b[0m \u001b[0mtrain_predictions\u001b[0m\u001b[0;34m,\u001b[0m \u001b[0mtest_predictions\u001b[0m\u001b[0;34m\u001b[0m\u001b[0;34m\u001b[0m\u001b[0m\n\u001b[1;32m     43\u001b[0m \u001b[0;34m\u001b[0m\u001b[0m\n\u001b[0;32m---> 44\u001b[0;31m \u001b[0mtrain_data\u001b[0m\u001b[0;34m,\u001b[0m \u001b[0mtest_data\u001b[0m \u001b[0;34m=\u001b[0m \u001b[0msplit\u001b[0m\u001b[0;34m(\u001b[0m\u001b[0mdata\u001b[0m\u001b[0;34m)\u001b[0m\u001b[0;34m\u001b[0m\u001b[0;34m\u001b[0m\u001b[0m\n\u001b[0m\u001b[1;32m     45\u001b[0m \u001b[0msvm_train_predictions\u001b[0m\u001b[0;34m,\u001b[0m \u001b[0msvm_test_predictions\u001b[0m \u001b[0;34m=\u001b[0m \u001b[0msvm_classifier\u001b[0m\u001b[0;34m(\u001b[0m\u001b[0mtrain_data\u001b[0m\u001b[0;34m,\u001b[0m \u001b[0mtest_data\u001b[0m\u001b[0;34m)\u001b[0m\u001b[0;34m\u001b[0m\u001b[0;34m\u001b[0m\u001b[0m\n\u001b[1;32m     46\u001b[0m \u001b[0mknn_train_predictions\u001b[0m\u001b[0;34m,\u001b[0m \u001b[0mknn_test_predictions\u001b[0m \u001b[0;34m=\u001b[0m \u001b[0mknn_classifier\u001b[0m\u001b[0;34m(\u001b[0m\u001b[0mtrain_data\u001b[0m\u001b[0;34m,\u001b[0m \u001b[0mtest_data\u001b[0m\u001b[0;34m)\u001b[0m\u001b[0;34m\u001b[0m\u001b[0;34m\u001b[0m\u001b[0m\n",
            "\u001b[0;31mNameError\u001b[0m: name 'data' is not defined"
          ]
        }
      ],
      "source": [
        "from sklearn.neighbors import KNeighborsClassifier\n",
        "from sklearn import svm\n",
        "\n",
        "# split dataset\n",
        "def split(data):\n",
        "  n = len(data)\n",
        "  train_size = int(0.8 * n)\n",
        "  train_idx = np.random.choice(n, train_size, replace=False)\n",
        "  train_data = []\n",
        "  test_data = []\n",
        "  for i, row in enumerate(data):\n",
        "    if i in train_idx:\n",
        "      train_data.append(row)\n",
        "    else:\n",
        "      test_data.append(row)\n",
        "  return np.array(train_data), np.array(test_data)\n",
        "\n",
        "# learn a SVM model\n",
        "# use the model to make prediction\n",
        "# return the model predictions on train and test dataset\n",
        "def svm_classifier(train_data, test_data):\n",
        "  X_train, y_train = train_data[:, :-1], train_data[:, -1]\n",
        "  X_test, y_test = test_data[:, :-1], test_data[:, -1]\n",
        "\n",
        "  clf = svm.SVC()\n",
        "  clf.fit(X_train, y_train)\n",
        "  train_predictions = clf.predict(X_train)\n",
        "  test_predictions = clf.predict(X_test)\n",
        "  return train_predictions, test_predictions\n",
        "\n",
        "# implement k-NN algorithm\n",
        "# use the model to make prediction\n",
        "# return the model predictions on train and test dataset\n",
        "def knn_classifier(train_data, test_data):\n",
        "  X_train, y_train = train_data[:, :-1], train_data[:, -1]\n",
        "  X_test, y_test = test_data[:, :-1], test_data[:, -1]\n",
        "\n",
        "  neigh = KNeighborsClassifier()\n",
        "  neigh.fit(X_train, y_train)\n",
        "  train_predictions = neigh.predict(X_train)\n",
        "  test_predictions = neigh.predict(X_test)\n",
        "  return train_predictions, test_predictions\n",
        "\n",
        "train_data, test_data = split(data)\n",
        "svm_train_predictions, svm_test_predictions = svm_classifier(train_data, test_data)\n",
        "knn_train_predictions, knn_test_predictions = knn_classifier(train_data, test_data)"
      ]
    },
    {
      "cell_type": "markdown",
      "metadata": {
        "id": "SlCwYvluHqQz"
      },
      "source": [
        "### Model Evaluation\n",
        "Compare the SVM and k-NN model using metrics\n",
        "- Accuracy\n",
        "- [AUC score](https://scikit-learn.org/stable/modules/generated/sklearn.metrics.auc.html)\n"
      ]
    },
    {
      "cell_type": "code",
      "execution_count": 3,
      "metadata": {
        "id": "X3KmcTpqKbGI"
      },
      "outputs": [],
      "source": [
        "from sklearn import metrics\n",
        "\n",
        "# compute accuracy \n",
        "def compute_accuracy(true_labels, predicted_labels):\n",
        "  acc = metrics.accuracy_score(true_labels, predicted_labels)\n",
        "  return acc\n",
        "\n",
        "# compute AUC score \n",
        "def compute_auc(true_labels, predicted_labels):\n",
        "  fpr, tpr, thresholds = metrics.roc_curve(true_labels, predicted_labels)\n",
        "  auc = metrics.auc(fpr, tpr)\n",
        "  return auc\n",
        "\n",
        "# write code to print train and test accuracy and AUC score of SVM and k-NN classifier"
      ]
    }
  ],
  "metadata": {
    "colab": {
      "collapsed_sections": [],
      "name": "python-assignment.ipynb",
      "provenance": []
    },
    "kernelspec": {
      "display_name": "Python 3",
      "name": "python3"
    },
    "language_info": {
      "codemirror_mode": {
        "name": "ipython",
        "version": 3
      },
      "file_extension": ".py",
      "mimetype": "text/x-python",
      "name": "python",
      "nbconvert_exporter": "python",
      "pygments_lexer": "ipython3",
      "version": "3.9.7"
    }
  },
  "nbformat": 4,
  "nbformat_minor": 0
}
